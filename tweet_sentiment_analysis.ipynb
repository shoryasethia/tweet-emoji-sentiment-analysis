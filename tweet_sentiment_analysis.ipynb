{
 "cells": [
  {
   "cell_type": "markdown",
   "id": "5aaaa533",
   "metadata": {},
   "source": [
    "# Tweet Sentiment Analysis with Emoji Support\n",
    "\n",
    "This notebook implements a complete sentiment analysis pipeline for tweets that can handle both text and emojis.\n",
    "\n",
    "## Dataset Overview:\n",
    "- **Sentiment140**: 1.6M labeled tweets (positive/negative)\n",
    "- **Emoji Sentiment Data**: Emoji sentiment scores from social media analysis"
   ]
  },
  {
   "cell_type": "markdown",
   "id": "4639ba52",
   "metadata": {},
   "source": [
    "## 1. Import Libraries and Setup"
   ]
  },
  {
   "cell_type": "code",
   "execution_count": 22,
   "id": "5c0716cf",
   "metadata": {},
   "outputs": [
    {
     "name": "stdout",
     "output_type": "stream",
     "text": [
      "Note: you may need to restart the kernel to use updated packages.\n"
     ]
    }
   ],
   "source": [
    "# Install required packages\n",
    "%pip install -q emoji scikit-learn matplotlib seaborn"
   ]
  },
  {
   "cell_type": "code",
   "execution_count": 23,
   "id": "9cc63022",
   "metadata": {},
   "outputs": [],
   "source": [
    "import pandas as pd\n",
    "import numpy as np\n",
    "import re\n",
    "import pickle\n",
    "import emoji\n",
    "from sklearn.model_selection import train_test_split\n",
    "from sklearn.feature_extraction.text import TfidfVectorizer\n",
    "from sklearn.linear_model import LogisticRegression\n",
    "from sklearn.ensemble import RandomForestClassifier\n",
    "from sklearn.metrics import accuracy_score, classification_report, confusion_matrix\n",
    "from sklearn.pipeline import Pipeline\n",
    "import matplotlib.pyplot as plt\n",
    "import seaborn as sns\n",
    "import warnings\n",
    "warnings.filterwarnings('ignore')\n",
    "\n",
    "# Set random seed for reproducibility\n",
    "np.random.seed(42)"
   ]
  },
  {
   "cell_type": "markdown",
   "id": "06f0a7d6",
   "metadata": {},
   "source": [
    "## 2. Load and Explore Datasets"
   ]
  },
  {
   "cell_type": "code",
   "execution_count": 24,
   "id": "ee3c602d",
   "metadata": {},
   "outputs": [],
   "source": [
    "pd.set_option('display.max_columns', None)"
   ]
  },
  {
   "cell_type": "code",
   "execution_count": 25,
   "id": "19414861",
   "metadata": {},
   "outputs": [
    {
     "name": "stdout",
     "output_type": "stream",
     "text": [
      "Sentiment140 dataset shape: (1600000, 6)\n",
      "Sentiment distribution:\n",
      "sentiment\n",
      "0    800000\n",
      "4    800000\n",
      "Name: count, dtype: int64\n"
     ]
    },
    {
     "data": {
      "text/html": [
       "<div>\n",
       "<style scoped>\n",
       "    .dataframe tbody tr th:only-of-type {\n",
       "        vertical-align: middle;\n",
       "    }\n",
       "\n",
       "    .dataframe tbody tr th {\n",
       "        vertical-align: top;\n",
       "    }\n",
       "\n",
       "    .dataframe thead th {\n",
       "        text-align: right;\n",
       "    }\n",
       "</style>\n",
       "<table border=\"1\" class=\"dataframe\">\n",
       "  <thead>\n",
       "    <tr style=\"text-align: right;\">\n",
       "      <th></th>\n",
       "      <th>sentiment</th>\n",
       "      <th>id</th>\n",
       "      <th>date</th>\n",
       "      <th>query</th>\n",
       "      <th>user</th>\n",
       "      <th>text</th>\n",
       "    </tr>\n",
       "  </thead>\n",
       "  <tbody>\n",
       "    <tr>\n",
       "      <th>0</th>\n",
       "      <td>0</td>\n",
       "      <td>1467810369</td>\n",
       "      <td>Mon Apr 06 22:19:45 PDT 2009</td>\n",
       "      <td>NO_QUERY</td>\n",
       "      <td>_TheSpecialOne_</td>\n",
       "      <td>@switchfoot http://twitpic.com/2y1zl - Awww, t...</td>\n",
       "    </tr>\n",
       "    <tr>\n",
       "      <th>1</th>\n",
       "      <td>0</td>\n",
       "      <td>1467810672</td>\n",
       "      <td>Mon Apr 06 22:19:49 PDT 2009</td>\n",
       "      <td>NO_QUERY</td>\n",
       "      <td>scotthamilton</td>\n",
       "      <td>is upset that he can't update his Facebook by ...</td>\n",
       "    </tr>\n",
       "    <tr>\n",
       "      <th>2</th>\n",
       "      <td>0</td>\n",
       "      <td>1467810917</td>\n",
       "      <td>Mon Apr 06 22:19:53 PDT 2009</td>\n",
       "      <td>NO_QUERY</td>\n",
       "      <td>mattycus</td>\n",
       "      <td>@Kenichan I dived many times for the ball. Man...</td>\n",
       "    </tr>\n",
       "    <tr>\n",
       "      <th>3</th>\n",
       "      <td>0</td>\n",
       "      <td>1467811184</td>\n",
       "      <td>Mon Apr 06 22:19:57 PDT 2009</td>\n",
       "      <td>NO_QUERY</td>\n",
       "      <td>ElleCTF</td>\n",
       "      <td>my whole body feels itchy and like its on fire</td>\n",
       "    </tr>\n",
       "    <tr>\n",
       "      <th>4</th>\n",
       "      <td>0</td>\n",
       "      <td>1467811193</td>\n",
       "      <td>Mon Apr 06 22:19:57 PDT 2009</td>\n",
       "      <td>NO_QUERY</td>\n",
       "      <td>Karoli</td>\n",
       "      <td>@nationwideclass no, it's not behaving at all....</td>\n",
       "    </tr>\n",
       "  </tbody>\n",
       "</table>\n",
       "</div>"
      ],
      "text/plain": [
       "   sentiment          id                          date     query  \\\n",
       "0          0  1467810369  Mon Apr 06 22:19:45 PDT 2009  NO_QUERY   \n",
       "1          0  1467810672  Mon Apr 06 22:19:49 PDT 2009  NO_QUERY   \n",
       "2          0  1467810917  Mon Apr 06 22:19:53 PDT 2009  NO_QUERY   \n",
       "3          0  1467811184  Mon Apr 06 22:19:57 PDT 2009  NO_QUERY   \n",
       "4          0  1467811193  Mon Apr 06 22:19:57 PDT 2009  NO_QUERY   \n",
       "\n",
       "              user                                               text  \n",
       "0  _TheSpecialOne_  @switchfoot http://twitpic.com/2y1zl - Awww, t...  \n",
       "1    scotthamilton  is upset that he can't update his Facebook by ...  \n",
       "2         mattycus  @Kenichan I dived many times for the ball. Man...  \n",
       "3          ElleCTF    my whole body feels itchy and like its on fire   \n",
       "4           Karoli  @nationwideclass no, it's not behaving at all....  "
      ]
     },
     "execution_count": 25,
     "metadata": {},
     "output_type": "execute_result"
    }
   ],
   "source": [
    "# Load Sentiment140 dataset\n",
    "# Format: sentiment(0=negative, 4=positive), id, date, query, user, text\n",
    "columns = ['sentiment', 'id', 'date', 'query', 'user', 'text']\n",
    "sentiment140_df = pd.read_csv('data/tweets/training.1600000.processed.noemoticon.csv', \n",
    "                             names=columns, encoding='latin-1')\n",
    "\n",
    "print(f\"Sentiment140 dataset shape: {sentiment140_df.shape}\")\n",
    "print(f\"Sentiment distribution:\\n{sentiment140_df['sentiment'].value_counts()}\")\n",
    "sentiment140_df.head()"
   ]
  },
  {
   "cell_type": "code",
   "execution_count": 26,
   "id": "1bf7556c",
   "metadata": {},
   "outputs": [
    {
     "name": "stdout",
     "output_type": "stream",
     "text": [
      "Emoji dataset shape: (969, 9)\n"
     ]
    },
    {
     "data": {
      "text/html": [
       "<div>\n",
       "<style scoped>\n",
       "    .dataframe tbody tr th:only-of-type {\n",
       "        vertical-align: middle;\n",
       "    }\n",
       "\n",
       "    .dataframe tbody tr th {\n",
       "        vertical-align: top;\n",
       "    }\n",
       "\n",
       "    .dataframe thead th {\n",
       "        text-align: right;\n",
       "    }\n",
       "</style>\n",
       "<table border=\"1\" class=\"dataframe\">\n",
       "  <thead>\n",
       "    <tr style=\"text-align: right;\">\n",
       "      <th></th>\n",
       "      <th>Emoji</th>\n",
       "      <th>Unicode codepoint</th>\n",
       "      <th>Occurrences</th>\n",
       "      <th>Position</th>\n",
       "      <th>Negative</th>\n",
       "      <th>Neutral</th>\n",
       "      <th>Positive</th>\n",
       "      <th>Unicode name</th>\n",
       "      <th>Unicode block</th>\n",
       "    </tr>\n",
       "  </thead>\n",
       "  <tbody>\n",
       "    <tr>\n",
       "      <th>0</th>\n",
       "      <td>😂</td>\n",
       "      <td>0x1f602</td>\n",
       "      <td>14622</td>\n",
       "      <td>0.805101</td>\n",
       "      <td>3614</td>\n",
       "      <td>4163</td>\n",
       "      <td>6845</td>\n",
       "      <td>FACE WITH TEARS OF JOY</td>\n",
       "      <td>Emoticons</td>\n",
       "    </tr>\n",
       "    <tr>\n",
       "      <th>1</th>\n",
       "      <td>❤</td>\n",
       "      <td>0x2764</td>\n",
       "      <td>8050</td>\n",
       "      <td>0.746943</td>\n",
       "      <td>355</td>\n",
       "      <td>1334</td>\n",
       "      <td>6361</td>\n",
       "      <td>HEAVY BLACK HEART</td>\n",
       "      <td>Dingbats</td>\n",
       "    </tr>\n",
       "    <tr>\n",
       "      <th>2</th>\n",
       "      <td>♥</td>\n",
       "      <td>0x2665</td>\n",
       "      <td>7144</td>\n",
       "      <td>0.753806</td>\n",
       "      <td>252</td>\n",
       "      <td>1942</td>\n",
       "      <td>4950</td>\n",
       "      <td>BLACK HEART SUIT</td>\n",
       "      <td>Miscellaneous Symbols</td>\n",
       "    </tr>\n",
       "    <tr>\n",
       "      <th>3</th>\n",
       "      <td>😍</td>\n",
       "      <td>0x1f60d</td>\n",
       "      <td>6359</td>\n",
       "      <td>0.765292</td>\n",
       "      <td>329</td>\n",
       "      <td>1390</td>\n",
       "      <td>4640</td>\n",
       "      <td>SMILING FACE WITH HEART-SHAPED EYES</td>\n",
       "      <td>Emoticons</td>\n",
       "    </tr>\n",
       "    <tr>\n",
       "      <th>4</th>\n",
       "      <td>😭</td>\n",
       "      <td>0x1f62d</td>\n",
       "      <td>5526</td>\n",
       "      <td>0.803352</td>\n",
       "      <td>2412</td>\n",
       "      <td>1218</td>\n",
       "      <td>1896</td>\n",
       "      <td>LOUDLY CRYING FACE</td>\n",
       "      <td>Emoticons</td>\n",
       "    </tr>\n",
       "  </tbody>\n",
       "</table>\n",
       "</div>"
      ],
      "text/plain": [
       "  Emoji Unicode codepoint  Occurrences  Position  Negative  Neutral  Positive  \\\n",
       "0     😂           0x1f602        14622  0.805101      3614     4163      6845   \n",
       "1     ❤            0x2764         8050  0.746943       355     1334      6361   \n",
       "2     ♥            0x2665         7144  0.753806       252     1942      4950   \n",
       "3     😍           0x1f60d         6359  0.765292       329     1390      4640   \n",
       "4     😭           0x1f62d         5526  0.803352      2412     1218      1896   \n",
       "\n",
       "                          Unicode name          Unicode block  \n",
       "0               FACE WITH TEARS OF JOY              Emoticons  \n",
       "1                    HEAVY BLACK HEART               Dingbats  \n",
       "2                     BLACK HEART SUIT  Miscellaneous Symbols  \n",
       "3  SMILING FACE WITH HEART-SHAPED EYES              Emoticons  \n",
       "4                   LOUDLY CRYING FACE              Emoticons  "
      ]
     },
     "execution_count": 26,
     "metadata": {},
     "output_type": "execute_result"
    }
   ],
   "source": [
    "# Load emoji sentiment data\n",
    "emoji_df = pd.read_csv('data/emoji/Emoji_Sentiment_Data_v1.0.csv')\n",
    "print(f\"Emoji dataset shape: {emoji_df.shape}\")\n",
    "emoji_df.head()"
   ]
  },
  {
   "cell_type": "markdown",
   "id": "37081c2c",
   "metadata": {},
   "source": [
    "## 3. Data Preprocessing"
   ]
  },
  {
   "cell_type": "code",
   "execution_count": 27,
   "id": "e04fd9de",
   "metadata": {},
   "outputs": [
    {
     "name": "stdout",
     "output_type": "stream",
     "text": [
      "Created emoji sentiment mapping for 969 emojis\n",
      "\n",
      "Most positive emojis:\n",
      "┊: 1.000\n",
      "▃: 1.000\n",
      "🔅: 1.000\n",
      "🏧: 1.000\n",
      "🔔: 1.000\n",
      "\n",
      "Most negative emojis:\n",
      "🕔: -1.000\n",
      "🈂: -1.000\n",
      "🎰: -1.000\n",
      "҂: -1.000\n",
      "╤: -1.000\n"
     ]
    }
   ],
   "source": [
    "# Create emoji sentiment mapping\n",
    "def create_emoji_sentiment_map(emoji_df):\n",
    "    \"\"\"\n",
    "    Create a mapping of emojis to sentiment scores\n",
    "    Score calculation: (Positive - Negative) / Total occurrences\n",
    "    \"\"\"\n",
    "    emoji_sentiment = {}\n",
    "    \n",
    "    for _, row in emoji_df.iterrows():\n",
    "        emoji_char = row['Emoji']\n",
    "        positive = row['Positive']\n",
    "        negative = row['Negative']\n",
    "        neutral = row['Neutral']\n",
    "        total = positive + negative + neutral\n",
    "        \n",
    "        if total > 0:\n",
    "            # Sentiment score: -1 (very negative) to +1 (very positive)\n",
    "            sentiment_score = (positive - negative) / total\n",
    "            emoji_sentiment[emoji_char] = sentiment_score\n",
    "    \n",
    "    return emoji_sentiment\n",
    "\n",
    "emoji_sentiment_map = create_emoji_sentiment_map(emoji_df)\n",
    "print(f\"Created emoji sentiment mapping for {len(emoji_sentiment_map)} emojis\")\n",
    "\n",
    "# Show some examples\n",
    "sorted_emojis = sorted(emoji_sentiment_map.items(), key=lambda x: x[1], reverse=True)\n",
    "print(\"\\nMost positive emojis:\")\n",
    "for emoji_char, score in sorted_emojis[:5]:\n",
    "    print(f\"{emoji_char}: {score:.3f}\")\n",
    "    \n",
    "print(\"\\nMost negative emojis:\")\n",
    "for emoji_char, score in sorted_emojis[-5:]:\n",
    "    print(f\"{emoji_char}: {score:.3f}\")"
   ]
  },
  {
   "cell_type": "code",
   "execution_count": 28,
   "id": "4932bbf2",
   "metadata": {},
   "outputs": [
    {
     "name": "stdout",
     "output_type": "stream",
     "text": [
      "Original: I love this! 😍❤️ But I'm also sad 😭 #happy @user\n",
      "Processed: i love this! POSITIVE_EMOJI POSITIVE_EMOJI ️ but i'm also sad NEUTRAL_EMOJI happy\n"
     ]
    }
   ],
   "source": [
    "def preprocess_text(text, emoji_sentiment_map):\n",
    "    \"\"\"\n",
    "    Preprocess tweet text with emoji handling\n",
    "    \"\"\"\n",
    "    if pd.isna(text):\n",
    "        return \"\"\n",
    "    \n",
    "    # Convert to string and lowercase\n",
    "    text = str(text).lower()\n",
    "    \n",
    "    # Extract emoji sentiment features\n",
    "    emoji_sentiment_score = 0\n",
    "    emoji_count = 0\n",
    "    \n",
    "    # Find emojis and calculate sentiment\n",
    "    for char in text:\n",
    "        if char in emoji_sentiment_map:\n",
    "            emoji_sentiment_score += emoji_sentiment_map[char]\n",
    "            emoji_count += 1\n",
    "    \n",
    "    # Replace emojis with sentiment indicators\n",
    "    for emoji_char, sentiment_score in emoji_sentiment_map.items():\n",
    "        if emoji_char in text:\n",
    "            if sentiment_score > 0.2:\n",
    "                text = text.replace(emoji_char, ' POSITIVE_EMOJI ')\n",
    "            elif sentiment_score < -0.2:\n",
    "                text = text.replace(emoji_char, ' NEGATIVE_EMOJI ')\n",
    "            else:\n",
    "                text = text.replace(emoji_char, ' NEUTRAL_EMOJI ')\n",
    "    \n",
    "    # Remove URLs\n",
    "    text = re.sub(r'http\\S+|www\\S+|https\\S+', '', text, flags=re.MULTILINE)\n",
    "    \n",
    "    # Remove user mentions and hashtags (but keep the text)\n",
    "    text = re.sub(r'@\\w+', '', text)\n",
    "    text = re.sub(r'#', '', text)\n",
    "    \n",
    "    # Remove extra whitespace\n",
    "    text = re.sub(r'\\s+', ' ', text).strip()\n",
    "    \n",
    "    return text\n",
    "\n",
    "# Test the preprocessing function\n",
    "test_text = \"I love this! 😍❤️ But I'm also sad 😭 #happy @user\"\n",
    "processed = preprocess_text(test_text, emoji_sentiment_map)\n",
    "print(f\"Original: {test_text}\")\n",
    "print(f\"Processed: {processed}\")"
   ]
  },
  {
   "cell_type": "code",
   "execution_count": 29,
   "id": "2e35530c",
   "metadata": {},
   "outputs": [
    {
     "name": "stdout",
     "output_type": "stream",
     "text": [
      "Preprocessing tweets...\n",
      "Final dataset shape: (1597185, 8)\n",
      "Label distribution:\n",
      "label\n",
      "1    798688\n",
      "0    798497\n",
      "Name: count, dtype: int64\n",
      "Final dataset shape: (1597185, 8)\n",
      "Label distribution:\n",
      "label\n",
      "1    798688\n",
      "0    798497\n",
      "Name: count, dtype: int64\n"
     ]
    }
   ],
   "source": [
    "# Prepare the dataset\n",
    "# Convert sentiment labels: 0 -> 0 (negative), 4 -> 1 (positive)\n",
    "sentiment140_df['label'] = sentiment140_df['sentiment'].map({0: 0, 4: 1})\n",
    "\n",
    "# Use a subset for faster training\n",
    "# Use full dataset for maximum performance\n",
    "# sample_size = 200000  \n",
    "df_sample = sentiment140_df.copy()  # Use full 1.6M dataset\n",
    "\n",
    "# Preprocess tweets\n",
    "print(\"Preprocessing tweets...\")\n",
    "df_sample['processed_text'] = df_sample['text'].apply(lambda x: preprocess_text(x, emoji_sentiment_map))\n",
    "\n",
    "# Remove empty texts\n",
    "df_sample = df_sample[df_sample['processed_text'].str.len() > 0]\n",
    "\n",
    "print(f\"Final dataset shape: {df_sample.shape}\")\n",
    "print(f\"Label distribution:\\n{df_sample['label'].value_counts()}\")"
   ]
  },
  {
   "cell_type": "markdown",
   "id": "9200c874",
   "metadata": {},
   "source": [
    "## 4. Feature Engineering and Model Training"
   ]
  },
  {
   "cell_type": "code",
   "execution_count": 30,
   "id": "7b8298e2",
   "metadata": {},
   "outputs": [
    {
     "name": "stdout",
     "output_type": "stream",
     "text": [
      "Training set size: 1277748\n",
      "Test set size: 319437\n",
      "Training label distribution:\n",
      "label\n",
      "1    638950\n",
      "0    638798\n",
      "Name: count, dtype: int64\n"
     ]
    }
   ],
   "source": [
    "# Split the data\n",
    "X = df_sample['processed_text']\n",
    "y = df_sample['label']\n",
    "\n",
    "X_train, X_test, y_train, y_test = train_test_split(X, y, test_size=0.2, random_state=42, stratify=y)\n",
    "\n",
    "print(f\"Training set size: {len(X_train)}\")\n",
    "print(f\"Test set size: {len(X_test)}\")\n",
    "print(f\"Training label distribution:\\n{y_train.value_counts()}\")"
   ]
  },
  {
   "cell_type": "code",
   "execution_count": 31,
   "id": "a4a994be",
   "metadata": {},
   "outputs": [
    {
     "name": "stdout",
     "output_type": "stream",
     "text": [
      "Training Logistic Regression model...\n",
      "Model training completed!\n",
      "Model training completed!\n"
     ]
    }
   ],
   "source": [
    "# Create and train the model pipeline\n",
    "print(\"Training Logistic Regression model...\")\n",
    "\n",
    "# TF-IDF Vectorizer with optimized parameters\n",
    "tfidf = TfidfVectorizer(\n",
    "    max_features=50000,  # Limit vocabulary size\n",
    "    ngram_range=(1, 2),  # Use unigrams and bigrams\n",
    "    min_df=2,           # Ignore terms that appear in less than 2 documents\n",
    "    max_df=0.95,        # Ignore terms that appear in more than 95% of documents\n",
    "    strip_accents='unicode',\n",
    "    stop_words='english'\n",
    ")\n",
    "\n",
    "# Logistic Regression model\n",
    "lr_model = LogisticRegression(\n",
    "    random_state=42,\n",
    "    max_iter=1000,\n",
    "    C=1.0\n",
    ")\n",
    "\n",
    "# Create pipeline\n",
    "sentiment_pipeline = Pipeline([\n",
    "    ('tfidf', tfidf),\n",
    "    ('classifier', lr_model)\n",
    "])\n",
    "\n",
    "# Train the model\n",
    "sentiment_pipeline.fit(X_train, y_train)\n",
    "\n",
    "print(\"Model training completed!\")"
   ]
  },
  {
   "cell_type": "markdown",
   "id": "6a060042",
   "metadata": {},
   "source": [
    "## 5. Model Evaluation"
   ]
  },
  {
   "cell_type": "code",
   "execution_count": 32,
   "id": "fcfdf5f4",
   "metadata": {},
   "outputs": [
    {
     "name": "stdout",
     "output_type": "stream",
     "text": [
      "Accuracy: 0.7849\n",
      "\n",
      "Classification Report:\n",
      "              precision    recall  f1-score   support\n",
      "\n",
      "    Negative       0.80      0.76      0.78    159699\n",
      "    Positive       0.77      0.81      0.79    159738\n",
      "\n",
      "    accuracy                           0.78    319437\n",
      "   macro avg       0.79      0.78      0.78    319437\n",
      "weighted avg       0.79      0.78      0.78    319437\n",
      "\n"
     ]
    }
   ],
   "source": [
    "# Make predictions\n",
    "y_pred = sentiment_pipeline.predict(X_test)\n",
    "y_pred_proba = sentiment_pipeline.predict_proba(X_test)[:, 1]\n",
    "\n",
    "# Calculate metrics\n",
    "accuracy = accuracy_score(y_test, y_pred)\n",
    "print(f\"Accuracy: {accuracy:.4f}\")\n",
    "\n",
    "# Detailed classification report\n",
    "print(\"\\nClassification Report:\")\n",
    "print(classification_report(y_test, y_pred, target_names=['Negative', 'Positive']))"
   ]
  },
  {
   "cell_type": "code",
   "execution_count": 33,
   "id": "f8973fb9",
   "metadata": {},
   "outputs": [
    {
     "data": {
      "image/png": "[encoded data removed]",
      "text/plain": [
       "<Figure size 800x600 with 2 Axes>"
      ]
     },
     "metadata": {},
     "output_type": "display_data"
    },
    {
     "name": "stdout",
     "output_type": "stream",
     "text": [
      "\n",
      "Detailed Metrics:\n",
      "Precision: 0.7729\n",
      "Recall: 0.8070\n",
      "F1-Score: 0.7896\n",
      "True Negatives: 121814\n",
      "False Positives: 37885\n",
      "False Negatives: 30822\n",
      "True Positives: 128916\n"
     ]
    }
   ],
   "source": [
    "# Confusion Matrix\n",
    "plt.figure(figsize=(8, 6))\n",
    "cm = confusion_matrix(y_test, y_pred)\n",
    "sns.heatmap(cm, annot=True, fmt='d', cmap='Blues', \n",
    "            xticklabels=['Negative', 'Positive'],\n",
    "            yticklabels=['Negative', 'Positive'])\n",
    "plt.title('Confusion Matrix')\n",
    "plt.ylabel('True Label')\n",
    "plt.xlabel('Predicted Label')\n",
    "plt.show()\n",
    "\n",
    "# Calculate additional metrics\n",
    "tn, fp, fn, tp = cm.ravel()\n",
    "precision = tp / (tp + fp)\n",
    "recall = tp / (tp + fn)\n",
    "f1_score = 2 * (precision * recall) / (precision + recall)\n",
    "\n",
    "print(f\"\\nDetailed Metrics:\")\n",
    "print(f\"Precision: {precision:.4f}\")\n",
    "print(f\"Recall: {recall:.4f}\")\n",
    "print(f\"F1-Score: {f1_score:.4f}\")\n",
    "print(f\"True Negatives: {tn}\")\n",
    "print(f\"False Positives: {fp}\")\n",
    "print(f\"False Negatives: {fn}\")\n",
    "print(f\"True Positives: {tp}\")"
   ]
  },
  {
   "cell_type": "markdown",
   "id": "82e9e2bc",
   "metadata": {},
   "source": [
    "## 6. Save the Model"
   ]
  },
  {
   "cell_type": "code",
   "execution_count": 34,
   "id": "a00054d0",
   "metadata": {},
   "outputs": [
    {
     "name": "stdout",
     "output_type": "stream",
     "text": [
      "Model and emoji mapping saved successfully!\n",
      "Files saved:\n",
      "- models/tweet_sentiment_model.pkl\n",
      "- models/emoji_sentiment_map.pkl\n"
     ]
    }
   ],
   "source": [
    "# Save the trained model and emoji sentiment mapping\n",
    "with open('models/tweet_sentiment_model.pkl', 'wb') as f:\n",
    "    pickle.dump(sentiment_pipeline, f)\n",
    "\n",
    "with open('models/emoji_sentiment_map.pkl', 'wb') as f:\n",
    "    pickle.dump(emoji_sentiment_map, f)\n",
    "\n",
    "print(\"Model and emoji mapping saved successfully!\")\n",
    "print(\"Files saved:\")\n",
    "print(\"- models/tweet_sentiment_model.pkl\")\n",
    "print(\"- models/emoji_sentiment_map.pkl\")"
   ]
  },
  {
   "cell_type": "markdown",
   "id": "f1b068db",
   "metadata": {},
   "source": [
    "## 7. Create Prediction Function"
   ]
  },
  {
   "cell_type": "code",
   "execution_count": 35,
   "id": "7a520b2f",
   "metadata": {},
   "outputs": [
    {
     "name": "stdout",
     "output_type": "stream",
     "text": [
      "Testing the model with sample tweets:\n",
      "\n",
      "Tweet 1: I love this movie! 😍❤️ It's absolutely amazing!\n",
      "Sentiment: Positive\n",
      "Confidence: 0.916 (positive), 0.084 (negative)\n",
      "Emojis found:\n",
      "  😍: 0.678\n",
      "  ❤: 0.746\n",
      "--------------------------------------------------\n",
      "Tweet 2: This is terrible 😭💔 I hate it so much\n",
      "Sentiment: Negative\n",
      "Confidence: 0.118 (positive), 0.882 (negative)\n",
      "Emojis found:\n",
      "  😭: -0.093\n",
      "  💔: -0.122\n",
      "--------------------------------------------------\n",
      "Tweet 3: Just had lunch 🍕 it was okay I guess\n",
      "Sentiment: Negative\n",
      "Confidence: 0.445 (positive), 0.555 (negative)\n",
      "Emojis found:\n",
      "  🍕: 0.420\n",
      "--------------------------------------------------\n",
      "Tweet 4: Beautiful sunset today! 🌅✨ Perfect weather for a walk\n",
      "Sentiment: Positive\n",
      "Confidence: 0.862 (positive), 0.138 (negative)\n",
      "Emojis found:\n",
      "  🌅: 0.381\n",
      "  ✨: 0.353\n",
      "--------------------------------------------------\n",
      "Tweet 5: Stuck in traffic again 😤🚗 This is so frustrating!\n",
      "Sentiment: Negative\n",
      "Confidence: 0.011 (positive), 0.989 (negative)\n",
      "Emojis found:\n",
      "  😤: -0.211\n",
      "  🚗: 0.242\n",
      "--------------------------------------------------\n"
     ]
    }
   ],
   "source": [
    "def predict_tweet_sentiment(tweet, model_pipeline, emoji_map):\n",
    "    \"\"\"\n",
    "    Predict sentiment for a single tweet\n",
    "    \n",
    "    Args:\n",
    "        tweet (str): The tweet text\n",
    "        model_pipeline: Trained sentiment analysis pipeline\n",
    "        emoji_map (dict): Emoji sentiment mapping\n",
    "    \n",
    "    Returns:\n",
    "        dict: Prediction results with sentiment, confidence, and emoji analysis\n",
    "    \"\"\"\n",
    "    # Preprocess the tweet\n",
    "    processed_tweet = preprocess_text(tweet, emoji_map)\n",
    "    \n",
    "    # Make prediction\n",
    "    prediction = model_pipeline.predict([processed_tweet])[0]\n",
    "    confidence = model_pipeline.predict_proba([processed_tweet])[0]\n",
    "    \n",
    "    # Analyze emojis in the original tweet\n",
    "    emoji_analysis = []\n",
    "    for char in tweet:\n",
    "        if char in emoji_map:\n",
    "            emoji_analysis.append({\n",
    "                'emoji': char,\n",
    "                'sentiment_score': emoji_map[char]\n",
    "            })\n",
    "    \n",
    "    return {\n",
    "        'original_tweet': tweet,\n",
    "        'processed_tweet': processed_tweet,\n",
    "        'sentiment': 'Positive' if prediction == 1 else 'Negative',\n",
    "        'confidence': {\n",
    "            'negative': confidence[0],\n",
    "            'positive': confidence[1]\n",
    "        },\n",
    "        'emoji_analysis': emoji_analysis\n",
    "    }\n",
    "\n",
    "# Test the prediction function\n",
    "test_tweets = [\n",
    "    \"I love this movie! 😍❤️ It's absolutely amazing!\",\n",
    "    \"This is terrible 😭💔 I hate it so much\",\n",
    "    \"Just had lunch 🍕 it was okay I guess\",\n",
    "    \"Beautiful sunset today! 🌅✨ Perfect weather for a walk\",\n",
    "    \"Stuck in traffic again 😤🚗 This is so frustrating!\"\n",
    "]\n",
    "\n",
    "print(\"Testing the model with sample tweets:\\n\")\n",
    "for i, tweet in enumerate(test_tweets, 1):\n",
    "    result = predict_tweet_sentiment(tweet, sentiment_pipeline, emoji_sentiment_map)\n",
    "    print(f\"Tweet {i}: {result['original_tweet']}\")\n",
    "    print(f\"Sentiment: {result['sentiment']}\")\n",
    "    print(f\"Confidence: {result['confidence']['positive']:.3f} (positive), {result['confidence']['negative']:.3f} (negative)\")\n",
    "    if result['emoji_analysis']:\n",
    "        print(\"Emojis found:\")\n",
    "        for emoji_info in result['emoji_analysis']:\n",
    "            print(f\"  {emoji_info['emoji']}: {emoji_info['sentiment_score']:.3f}\")\n",
    "    print(\"-\" * 50)"
   ]
  },
  {
   "cell_type": "markdown",
   "id": "52d93308",
   "metadata": {},
   "source": [
    "## 8. Model Performance Summary"
   ]
  },
  {
   "cell_type": "code",
   "execution_count": 36,
   "id": "7767230e",
   "metadata": {},
   "outputs": [
    {
     "name": "stdout",
     "output_type": "stream",
     "text": [
      "Top 20 words indicating POSITIVE sentiment:\n",
      "wish luck: 6.7865\n",
      "don miss: 5.4108\n",
      "isn bad: 5.3617\n",
      "thank: 5.3016\n",
      "wasn bad: 5.2929\n",
      "thanks: 5.1333\n",
      "welcome: 5.1249\n",
      "smiling: 4.8304\n",
      "don forget: 4.8204\n",
      "glad: 4.5107\n",
      "congratulations: 4.4102\n",
      "don worry: 4.3894\n",
      "feel free: 4.3112\n",
      "blessed: 4.2528\n",
      "congrats: 4.2276\n",
      "feels good: 4.0990\n",
      "smile: 4.0801\n",
      "excited: 4.0691\n",
      "fuck yeah: 4.0174\n",
      "life good: 4.0092\n",
      "\n",
      "Top 20 words indicating NEGATIVE sentiment:\n",
      "sad: -12.6949\n",
      "bummed: -7.8065\n",
      "poor: -7.7053\n",
      "miss: -7.4010\n",
      "hurts: -7.0513\n",
      "sick: -6.9265\n",
      "sadly: -6.8588\n",
      "sucks: -6.8258\n",
      "gutted: -6.8184\n",
      "disappointing: -6.7459\n",
      "missing: -6.7138\n",
      "wish: -6.5953\n",
      "passed away: -6.4597\n",
      "headache: -6.3142\n",
      "unfortunately: -6.2662\n",
      "depressed: -6.1140\n",
      "ruined: -6.0197\n",
      "hate: -6.0024\n",
      "depressing: -5.8922\n",
      "ugh: -5.8247\n"
     ]
    }
   ],
   "source": [
    "# Feature importance (top words)\n",
    "feature_names = sentiment_pipeline.named_steps['tfidf'].get_feature_names_out()\n",
    "coefficients = sentiment_pipeline.named_steps['classifier'].coef_[0]\n",
    "\n",
    "# Get top positive and negative features\n",
    "top_positive_idx = np.argsort(coefficients)[-20:]\n",
    "top_negative_idx = np.argsort(coefficients)[:20]\n",
    "\n",
    "print(\"Top 20 words indicating POSITIVE sentiment:\")\n",
    "for idx in reversed(top_positive_idx):\n",
    "    print(f\"{feature_names[idx]}: {coefficients[idx]:.4f}\")\n",
    "\n",
    "print(\"\\nTop 20 words indicating NEGATIVE sentiment:\")\n",
    "for idx in top_negative_idx:\n",
    "    print(f\"{feature_names[idx]}: {coefficients[idx]:.4f}\")"
   ]
  },
  {
   "cell_type": "code",
   "execution_count": 37,
   "id": "eaa65a83",
   "metadata": {},
   "outputs": [
    {
     "name": "stdout",
     "output_type": "stream",
     "text": [
      "============================================================\n",
      "TWEET SENTIMENT ANALYSIS MODEL SUMMARY\n",
      "============================================================\n",
      "Training Data: 1,277,748 tweets\n",
      "Test Data: 319,437 tweets\n",
      "Vocabulary Size: 50,000 features\n",
      "Emoji Mappings: 969 emojis\n",
      "\n",
      "Model Performance:\n",
      "Accuracy: 0.7849\n",
      "Precision: 0.7729\n",
      "Recall: 0.8070\n",
      "F1-Score: 0.7896\n",
      "\n",
      "Model saved as: tweet_sentiment_model.pkl\n",
      "Emoji mapping saved as: emoji_sentiment_map.pkl\n",
      "\n",
      "The model can now classify tweets with emojis as positive or negative!\n"
     ]
    }
   ],
   "source": [
    "# Final model summary\n",
    "print(\"=\"*60)\n",
    "print(\"TWEET SENTIMENT ANALYSIS MODEL SUMMARY\")\n",
    "print(\"=\"*60)\n",
    "print(f\"Training Data: {len(X_train):,} tweets\")\n",
    "print(f\"Test Data: {len(X_test):,} tweets\")\n",
    "print(f\"Vocabulary Size: {len(feature_names):,} features\")\n",
    "print(f\"Emoji Mappings: {len(emoji_sentiment_map)} emojis\")\n",
    "print(f\"\\nModel Performance:\")\n",
    "print(f\"Accuracy: {accuracy:.4f}\")\n",
    "print(f\"Precision: {precision:.4f}\")\n",
    "print(f\"Recall: {recall:.4f}\")\n",
    "print(f\"F1-Score: {f1_score:.4f}\")\n",
    "print(f\"\\nModel saved as: tweet_sentiment_model.pkl\")\n",
    "print(f\"Emoji mapping saved as: emoji_sentiment_map.pkl\")\n",
    "print(\"\\nThe model can now classify tweets with emojis as positive or negative!\")"
   ]
  }
 ],
 "metadata": {
  "kernelspec": {
   "display_name": "myenv",
   "language": "python",
   "name": "python3"
  },
  "language_info": {
   "codemirror_mode": {
    "name": "ipython",
    "version": 3
   },
   "file_extension": ".py",
   "mimetype": "text/x-python",
   "name": "python",
   "nbconvert_exporter": "python",
   "pygments_lexer": "ipython3",
   "version": "3.12.11"
  }
 },
 "nbformat": 4,
 "nbformat_minor": 5
}
