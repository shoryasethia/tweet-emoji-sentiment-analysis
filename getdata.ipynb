{
 "cells": [
  {
   "cell_type": "code",
   "execution_count": null,
   "id": "69c2c17c",
   "metadata": {},
   "outputs": [],
   "source": [
    "import kagglehub\n",
    "\n",
    "# Download latest version\n",
    "path = kagglehub.dataset_download(\"thomasseleck/emoji-sentiment-data\")\n",
    "\n",
    "print(\"Path to dataset files:\", path)"
   ]
  },
  {
   "cell_type": "markdown",
   "id": "6e91e5e6",
   "metadata": {},
   "source": [
    "```bash\n",
    "Copy-Item -Path \"C:\\Users\\shory\\.cache\\kagglehub\\datasets\\thomasseleck\\emoji-sentiment-data\\versions\\1\\*\" -Destination \"c:\\Users\\shory\\Desktop\\AI-ML\\tweet-classification\\data\\emoji\\\" -Recurse\n",
    "```"
   ]
  },
  {
   "cell_type": "markdown",
   "id": "c6e46953",
   "metadata": {},
   "source": [
    "### Download Sentiment140 dataset"
   ]
  },
  {
   "cell_type": "code",
   "execution_count": null,
   "id": "f94dab93",
   "metadata": {},
   "outputs": [],
   "source": [
    "import kagglehub\n",
    "\n",
    "# Download latest version\n",
    "path = kagglehub.dataset_download(\"kazanova/sentiment140\")\n",
    "\n",
    "print(\"Path to dataset files:\", path)"
   ]
  }
 ],
 "metadata": {
  "language_info": {
   "name": "python"
  }
 },
 "nbformat": 4,
 "nbformat_minor": 5
}
